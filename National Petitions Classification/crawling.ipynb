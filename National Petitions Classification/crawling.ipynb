{
 "cells": [
  {
   "cell_type": "code",
   "execution_count": 2,
   "metadata": {},
   "outputs": [],
   "source": [
    "import pandas as pd\n",
    "import numpy as np\n",
    "import requests\n",
    "from bs4 import BeautifulSoup\n",
    "import time"
   ]
  },
  {
   "cell_type": "code",
   "execution_count": 4,
   "metadata": {},
   "outputs": [
    {
     "name": "stdout",
     "output_type": "stream",
     "text": [
      "Sleep 90seconds. Count:584280,  Local Time:2022-03-06 10:30:57,  Data Length:7\n",
      "Sleep 90seconds. Count:584340,  Local Time:2022-03-06 10:31:04,  Data Length:67\n",
      "Sleep 90seconds. Count:584400,  Local Time:2022-03-06 10:31:10,  Data Length:118\n",
      "Sleep 90seconds. Count:584460,  Local Time:2022-03-06 10:31:10,  Data Length:118\n",
      "Sleep 90seconds. Count:584520,  Local Time:2022-03-06 10:31:11,  Data Length:118\n",
      "Sleep 90seconds. Count:584580,  Local Time:2022-03-06 10:31:11,  Data Length:118\n",
      "Sleep 90seconds. Count:584640,  Local Time:2022-03-06 10:31:12,  Data Length:118\n",
      "Sleep 90seconds. Count:584700,  Local Time:2022-03-06 10:31:12,  Data Length:118\n",
      "Sleep 90seconds. Count:584760,  Local Time:2022-03-06 10:31:13,  Data Length:118\n",
      "Sleep 90seconds. Count:584820,  Local Time:2022-03-06 10:31:13,  Data Length:118\n",
      "Sleep 90seconds. Count:584880,  Local Time:2022-03-06 10:31:14,  Data Length:118\n",
      "Sleep 90seconds. Count:584940,  Local Time:2022-03-06 10:31:15,  Data Length:118\n",
      "Sleep 90seconds. Count:585000,  Local Time:2022-03-06 10:31:15,  Data Length:118\n",
      "Sleep 90seconds. Count:585060,  Local Time:2022-03-06 10:31:16,  Data Length:118\n",
      "Sleep 90seconds. Count:585120,  Local Time:2022-03-06 10:31:16,  Data Length:118\n",
      "Sleep 90seconds. Count:585180,  Local Time:2022-03-06 10:31:17,  Data Length:118\n",
      "Sleep 90seconds. Count:585240,  Local Time:2022-03-06 10:31:17,  Data Length:118\n",
      "Sleep 90seconds. Count:585300,  Local Time:2022-03-06 10:31:18,  Data Length:118\n",
      "Sleep 90seconds. Count:585360,  Local Time:2022-03-06 10:31:18,  Data Length:118\n",
      "Sleep 90seconds. Count:585420,  Local Time:2022-03-06 10:31:19,  Data Length:118\n",
      "Sleep 90seconds. Count:585480,  Local Time:2022-03-06 10:31:20,  Data Length:118\n",
      "Sleep 90seconds. Count:585540,  Local Time:2022-03-06 10:31:20,  Data Length:118\n",
      "Sleep 90seconds. Count:585600,  Local Time:2022-03-06 10:31:21,  Data Length:118\n",
      "Sleep 90seconds. Count:585660,  Local Time:2022-03-06 10:31:21,  Data Length:118\n",
      "Sleep 90seconds. Count:585720,  Local Time:2022-03-06 10:31:22,  Data Length:118\n",
      "Sleep 90seconds. Count:585780,  Local Time:2022-03-06 10:31:22,  Data Length:118\n",
      "Sleep 90seconds. Count:585840,  Local Time:2022-03-06 10:31:23,  Data Length:118\n",
      "Sleep 90seconds. Count:585900,  Local Time:2022-03-06 10:31:24,  Data Length:118\n",
      "Sleep 90seconds. Count:585960,  Local Time:2022-03-06 10:31:24,  Data Length:118\n",
      "Sleep 90seconds. Count:586020,  Local Time:2022-03-06 10:31:25,  Data Length:118\n",
      "Sleep 90seconds. Count:586080,  Local Time:2022-03-06 10:31:25,  Data Length:118\n",
      "Sleep 90seconds. Count:586140,  Local Time:2022-03-06 10:31:26,  Data Length:118\n",
      "Sleep 90seconds. Count:586200,  Local Time:2022-03-06 10:31:26,  Data Length:118\n",
      "Sleep 90seconds. Count:586260,  Local Time:2022-03-06 10:31:27,  Data Length:118\n",
      "Sleep 90seconds. Count:586320,  Local Time:2022-03-06 10:31:27,  Data Length:118\n",
      "Sleep 90seconds. Count:586380,  Local Time:2022-03-06 10:31:28,  Data Length:118\n",
      "Sleep 90seconds. Count:586440,  Local Time:2022-03-06 10:31:28,  Data Length:118\n",
      "Sleep 90seconds. Count:586500,  Local Time:2022-03-06 10:31:29,  Data Length:118\n",
      "Sleep 90seconds. Count:586560,  Local Time:2022-03-06 10:31:29,  Data Length:118\n",
      "Sleep 90seconds. Count:586620,  Local Time:2022-03-06 10:31:30,  Data Length:118\n",
      "Sleep 90seconds. Count:586680,  Local Time:2022-03-06 10:31:30,  Data Length:118\n",
      "Sleep 90seconds. Count:586740,  Local Time:2022-03-06 10:31:31,  Data Length:118\n",
      "Sleep 90seconds. Count:586800,  Local Time:2022-03-06 10:31:31,  Data Length:118\n",
      "Sleep 90seconds. Count:586860,  Local Time:2022-03-06 10:31:32,  Data Length:118\n",
      "Sleep 90seconds. Count:586920,  Local Time:2022-03-06 10:31:33,  Data Length:118\n",
      "Sleep 90seconds. Count:586980,  Local Time:2022-03-06 10:31:33,  Data Length:118\n",
      "Sleep 90seconds. Count:587040,  Local Time:2022-03-06 10:31:34,  Data Length:118\n",
      "Sleep 90seconds. Count:587100,  Local Time:2022-03-06 10:31:34,  Data Length:118\n",
      "Sleep 90seconds. Count:587160,  Local Time:2022-03-06 10:31:35,  Data Length:118\n",
      "Sleep 90seconds. Count:587220,  Local Time:2022-03-06 10:31:36,  Data Length:118\n",
      "Sleep 90seconds. Count:587280,  Local Time:2022-03-06 10:31:37,  Data Length:118\n",
      "Sleep 90seconds. Count:587340,  Local Time:2022-03-06 10:31:37,  Data Length:118\n",
      "Sleep 90seconds. Count:587400,  Local Time:2022-03-06 10:31:38,  Data Length:118\n",
      "Sleep 90seconds. Count:587460,  Local Time:2022-03-06 10:31:38,  Data Length:118\n",
      "Sleep 90seconds. Count:587520,  Local Time:2022-03-06 10:31:39,  Data Length:118\n",
      "Sleep 90seconds. Count:587580,  Local Time:2022-03-06 10:31:39,  Data Length:118\n",
      "Sleep 90seconds. Count:587640,  Local Time:2022-03-06 10:31:40,  Data Length:118\n",
      "Sleep 90seconds. Count:587700,  Local Time:2022-03-06 10:31:40,  Data Length:118\n",
      "Sleep 90seconds. Count:587760,  Local Time:2022-03-06 10:31:41,  Data Length:118\n",
      "Sleep 90seconds. Count:587820,  Local Time:2022-03-06 10:31:41,  Data Length:118\n",
      "Sleep 90seconds. Count:587880,  Local Time:2022-03-06 10:31:42,  Data Length:118\n",
      "Sleep 90seconds. Count:587940,  Local Time:2022-03-06 10:31:42,  Data Length:118\n",
      "Sleep 90seconds. Count:588000,  Local Time:2022-03-06 10:31:43,  Data Length:118\n",
      "Sleep 90seconds. Count:588060,  Local Time:2022-03-06 10:31:44,  Data Length:118\n",
      "Sleep 90seconds. Count:588120,  Local Time:2022-03-06 10:31:44,  Data Length:118\n",
      "Sleep 90seconds. Count:588180,  Local Time:2022-03-06 10:31:45,  Data Length:118\n",
      "Sleep 90seconds. Count:588240,  Local Time:2022-03-06 10:31:45,  Data Length:118\n",
      "Sleep 90seconds. Count:588300,  Local Time:2022-03-06 10:31:46,  Data Length:118\n",
      "Sleep 90seconds. Count:588360,  Local Time:2022-03-06 10:31:46,  Data Length:118\n",
      "Sleep 90seconds. Count:588420,  Local Time:2022-03-06 10:31:47,  Data Length:118\n",
      "Sleep 90seconds. Count:588480,  Local Time:2022-03-06 10:31:47,  Data Length:118\n",
      "Sleep 90seconds. Count:588540,  Local Time:2022-03-06 10:31:48,  Data Length:118\n",
      "Sleep 90seconds. Count:588600,  Local Time:2022-03-06 10:31:48,  Data Length:118\n",
      "Sleep 90seconds. Count:588660,  Local Time:2022-03-06 10:31:49,  Data Length:118\n",
      "Sleep 90seconds. Count:588720,  Local Time:2022-03-06 10:31:49,  Data Length:118\n",
      "Sleep 90seconds. Count:588780,  Local Time:2022-03-06 10:31:50,  Data Length:118\n",
      "Sleep 90seconds. Count:588840,  Local Time:2022-03-06 10:31:50,  Data Length:118\n",
      "Sleep 90seconds. Count:588900,  Local Time:2022-03-06 10:31:51,  Data Length:118\n",
      "Sleep 90seconds. Count:588960,  Local Time:2022-03-06 10:31:51,  Data Length:118\n",
      "Sleep 90seconds. Count:589020,  Local Time:2022-03-06 10:31:52,  Data Length:118\n",
      "Sleep 90seconds. Count:589080,  Local Time:2022-03-06 10:31:52,  Data Length:118\n",
      "Sleep 90seconds. Count:589140,  Local Time:2022-03-06 10:31:53,  Data Length:118\n",
      "Sleep 90seconds. Count:589200,  Local Time:2022-03-06 10:31:54,  Data Length:118\n",
      "Sleep 90seconds. Count:589260,  Local Time:2022-03-06 10:31:54,  Data Length:118\n",
      "Sleep 90seconds. Count:589320,  Local Time:2022-03-06 10:31:55,  Data Length:118\n",
      "Sleep 90seconds. Count:589380,  Local Time:2022-03-06 10:31:55,  Data Length:118\n",
      "Sleep 90seconds. Count:589440,  Local Time:2022-03-06 10:31:56,  Data Length:118\n",
      "Sleep 90seconds. Count:589500,  Local Time:2022-03-06 10:31:56,  Data Length:118\n",
      "Sleep 90seconds. Count:589560,  Local Time:2022-03-06 10:31:57,  Data Length:118\n",
      "Sleep 90seconds. Count:589620,  Local Time:2022-03-06 10:31:57,  Data Length:118\n",
      "Sleep 90seconds. Count:589680,  Local Time:2022-03-06 10:31:58,  Data Length:118\n",
      "Sleep 90seconds. Count:589740,  Local Time:2022-03-06 10:31:58,  Data Length:118\n",
      "Sleep 90seconds. Count:589800,  Local Time:2022-03-06 10:31:59,  Data Length:118\n",
      "Sleep 90seconds. Count:589860,  Local Time:2022-03-06 10:31:59,  Data Length:118\n",
      "Sleep 90seconds. Count:589920,  Local Time:2022-03-06 10:32:00,  Data Length:118\n",
      "Sleep 90seconds. Count:589980,  Local Time:2022-03-06 10:32:00,  Data Length:118\n",
      "Sleep 90seconds. Count:590040,  Local Time:2022-03-06 10:32:01,  Data Length:118\n",
      "Sleep 90seconds. Count:590100,  Local Time:2022-03-06 10:32:02,  Data Length:118\n",
      "Sleep 90seconds. Count:590160,  Local Time:2022-03-06 10:32:02,  Data Length:118\n",
      "Sleep 90seconds. Count:590220,  Local Time:2022-03-06 10:32:03,  Data Length:118\n",
      "Sleep 90seconds. Count:590280,  Local Time:2022-03-06 10:32:03,  Data Length:118\n",
      "Sleep 90seconds. Count:590340,  Local Time:2022-03-06 10:32:04,  Data Length:118\n",
      "Sleep 90seconds. Count:590400,  Local Time:2022-03-06 10:32:04,  Data Length:118\n",
      "Sleep 90seconds. Count:590460,  Local Time:2022-03-06 10:32:05,  Data Length:118\n",
      "Sleep 90seconds. Count:590520,  Local Time:2022-03-06 10:32:05,  Data Length:118\n",
      "Sleep 90seconds. Count:590580,  Local Time:2022-03-06 10:32:06,  Data Length:118\n",
      "Sleep 90seconds. Count:590640,  Local Time:2022-03-06 10:32:06,  Data Length:118\n",
      "Sleep 90seconds. Count:590700,  Local Time:2022-03-06 10:32:07,  Data Length:118\n",
      "Sleep 90seconds. Count:590760,  Local Time:2022-03-06 10:32:07,  Data Length:118\n",
      "Sleep 90seconds. Count:590820,  Local Time:2022-03-06 10:32:08,  Data Length:118\n",
      "Sleep 90seconds. Count:590880,  Local Time:2022-03-06 10:32:08,  Data Length:118\n",
      "Sleep 90seconds. Count:590940,  Local Time:2022-03-06 10:32:09,  Data Length:118\n",
      "Sleep 90seconds. Count:591000,  Local Time:2022-03-06 10:32:10,  Data Length:118\n",
      "Sleep 90seconds. Count:591060,  Local Time:2022-03-06 10:32:10,  Data Length:118\n",
      "Sleep 90seconds. Count:591120,  Local Time:2022-03-06 10:32:11,  Data Length:118\n",
      "Sleep 90seconds. Count:591180,  Local Time:2022-03-06 10:32:11,  Data Length:118\n",
      "Sleep 90seconds. Count:591240,  Local Time:2022-03-06 10:32:12,  Data Length:118\n",
      "Sleep 90seconds. Count:591300,  Local Time:2022-03-06 10:32:12,  Data Length:118\n",
      "Sleep 90seconds. Count:591360,  Local Time:2022-03-06 10:32:13,  Data Length:118\n",
      "Sleep 90seconds. Count:591420,  Local Time:2022-03-06 10:32:13,  Data Length:118\n",
      "Sleep 90seconds. Count:591480,  Local Time:2022-03-06 10:32:14,  Data Length:118\n",
      "Sleep 90seconds. Count:591540,  Local Time:2022-03-06 10:32:14,  Data Length:118\n",
      "Sleep 90seconds. Count:591600,  Local Time:2022-03-06 10:32:15,  Data Length:118\n",
      "Sleep 90seconds. Count:591660,  Local Time:2022-03-06 10:32:15,  Data Length:118\n",
      "Sleep 90seconds. Count:591720,  Local Time:2022-03-06 10:32:16,  Data Length:118\n",
      "Sleep 90seconds. Count:591780,  Local Time:2022-03-06 10:32:17,  Data Length:118\n",
      "Sleep 90seconds. Count:591840,  Local Time:2022-03-06 10:32:17,  Data Length:118\n",
      "Sleep 90seconds. Count:591900,  Local Time:2022-03-06 10:32:18,  Data Length:118\n",
      "Sleep 90seconds. Count:591960,  Local Time:2022-03-06 10:32:18,  Data Length:118\n",
      "Sleep 90seconds. Count:592020,  Local Time:2022-03-06 10:32:19,  Data Length:118\n",
      "Sleep 90seconds. Count:592080,  Local Time:2022-03-06 10:32:19,  Data Length:118\n",
      "Sleep 90seconds. Count:592140,  Local Time:2022-03-06 10:32:20,  Data Length:118\n",
      "Sleep 90seconds. Count:592200,  Local Time:2022-03-06 10:32:21,  Data Length:118\n",
      "Sleep 90seconds. Count:592260,  Local Time:2022-03-06 10:32:21,  Data Length:118\n",
      "Sleep 90seconds. Count:592320,  Local Time:2022-03-06 10:32:22,  Data Length:118\n",
      "Sleep 90seconds. Count:592380,  Local Time:2022-03-06 10:32:22,  Data Length:118\n",
      "Sleep 90seconds. Count:592440,  Local Time:2022-03-06 10:32:23,  Data Length:118\n",
      "Sleep 90seconds. Count:592500,  Local Time:2022-03-06 10:32:23,  Data Length:118\n",
      "Sleep 90seconds. Count:592560,  Local Time:2022-03-06 10:32:24,  Data Length:118\n",
      "Sleep 90seconds. Count:592620,  Local Time:2022-03-06 10:32:24,  Data Length:118\n",
      "Sleep 90seconds. Count:592680,  Local Time:2022-03-06 10:32:25,  Data Length:118\n",
      "Sleep 90seconds. Count:592740,  Local Time:2022-03-06 10:32:25,  Data Length:118\n",
      "Sleep 90seconds. Count:592800,  Local Time:2022-03-06 10:32:26,  Data Length:118\n",
      "Sleep 90seconds. Count:592860,  Local Time:2022-03-06 10:32:27,  Data Length:118\n",
      "Sleep 90seconds. Count:592920,  Local Time:2022-03-06 10:32:27,  Data Length:118\n",
      "Sleep 90seconds. Count:592980,  Local Time:2022-03-06 10:32:28,  Data Length:118\n",
      "Sleep 90seconds. Count:593040,  Local Time:2022-03-06 10:32:28,  Data Length:118\n",
      "Sleep 90seconds. Count:593100,  Local Time:2022-03-06 10:32:29,  Data Length:118\n",
      "Sleep 90seconds. Count:593160,  Local Time:2022-03-06 10:32:29,  Data Length:118\n",
      "Sleep 90seconds. Count:593220,  Local Time:2022-03-06 10:32:30,  Data Length:118\n",
      "Sleep 90seconds. Count:593280,  Local Time:2022-03-06 10:32:30,  Data Length:118\n",
      "Sleep 90seconds. Count:593340,  Local Time:2022-03-06 10:32:31,  Data Length:118\n",
      "Sleep 90seconds. Count:593400,  Local Time:2022-03-06 10:32:31,  Data Length:118\n",
      "Sleep 90seconds. Count:593460,  Local Time:2022-03-06 10:32:32,  Data Length:118\n",
      "Sleep 90seconds. Count:593520,  Local Time:2022-03-06 10:32:32,  Data Length:118\n",
      "Sleep 90seconds. Count:593580,  Local Time:2022-03-06 10:32:33,  Data Length:118\n",
      "Sleep 90seconds. Count:593640,  Local Time:2022-03-06 10:32:34,  Data Length:118\n",
      "Sleep 90seconds. Count:593700,  Local Time:2022-03-06 10:32:34,  Data Length:118\n",
      "Sleep 90seconds. Count:593760,  Local Time:2022-03-06 10:32:35,  Data Length:118\n",
      "Sleep 90seconds. Count:593820,  Local Time:2022-03-06 10:32:35,  Data Length:118\n",
      "Sleep 90seconds. Count:593880,  Local Time:2022-03-06 10:32:36,  Data Length:118\n",
      "Sleep 90seconds. Count:593940,  Local Time:2022-03-06 10:32:36,  Data Length:118\n",
      "Sleep 90seconds. Count:594000,  Local Time:2022-03-06 10:32:37,  Data Length:118\n",
      "Sleep 90seconds. Count:594060,  Local Time:2022-03-06 10:32:37,  Data Length:118\n",
      "Sleep 90seconds. Count:594120,  Local Time:2022-03-06 10:32:38,  Data Length:118\n",
      "Sleep 90seconds. Count:594180,  Local Time:2022-03-06 10:32:39,  Data Length:118\n",
      "Sleep 90seconds. Count:594240,  Local Time:2022-03-06 10:32:39,  Data Length:118\n",
      "Sleep 90seconds. Count:594300,  Local Time:2022-03-06 10:32:40,  Data Length:118\n",
      "Sleep 90seconds. Count:594360,  Local Time:2022-03-06 10:32:40,  Data Length:118\n",
      "Sleep 90seconds. Count:594420,  Local Time:2022-03-06 10:32:41,  Data Length:118\n",
      "Sleep 90seconds. Count:594480,  Local Time:2022-03-06 10:32:41,  Data Length:118\n",
      "Sleep 90seconds. Count:594540,  Local Time:2022-03-06 10:32:42,  Data Length:118\n",
      "Sleep 90seconds. Count:594600,  Local Time:2022-03-06 10:32:42,  Data Length:118\n",
      "Sleep 90seconds. Count:594660,  Local Time:2022-03-06 10:32:43,  Data Length:118\n",
      "Sleep 90seconds. Count:594720,  Local Time:2022-03-06 10:32:43,  Data Length:118\n",
      "Sleep 90seconds. Count:594780,  Local Time:2022-03-06 10:32:44,  Data Length:118\n",
      "Sleep 90seconds. Count:594840,  Local Time:2022-03-06 10:32:44,  Data Length:118\n",
      "Sleep 90seconds. Count:594900,  Local Time:2022-03-06 10:32:45,  Data Length:118\n",
      "Sleep 90seconds. Count:594960,  Local Time:2022-03-06 10:32:45,  Data Length:118\n",
      "Sleep 90seconds. Count:595020,  Local Time:2022-03-06 10:32:46,  Data Length:118\n",
      "Sleep 90seconds. Count:595080,  Local Time:2022-03-06 10:32:46,  Data Length:118\n",
      "Sleep 90seconds. Count:595140,  Local Time:2022-03-06 10:32:47,  Data Length:118\n",
      "Sleep 90seconds. Count:595200,  Local Time:2022-03-06 10:32:48,  Data Length:118\n"
     ]
    }
   ],
   "source": [
    "\n",
    "result = pd.DataFrame()                                    \n",
    "\n",
    "for i in range(584274, 595226):\n",
    "    URL = \"http://www1.president.go.kr/petitions/\"+str(i)\n",
    " \n",
    "    response = requests.get(URL)    \n",
    "    html = response.text                                   \n",
    "    soup = BeautifulSoup(html, 'html.parser')           \n",
    "\n",
    "    title = soup.find('h3', class_='petitionsView_title')\n",
    "    count = soup.find('span', class_='counter')           \n",
    "\n",
    "    for content in soup.select('div.petitionsView_write > div.View_write'):\n",
    "        content                                         \n",
    "\n",
    "    a=[]\n",
    "    for tag in soup.select('ul.petitionsView_info_list > li'): \n",
    "        a.append(tag.contents[1])\n",
    "\n",
    "    if len(a) != 0:\n",
    "        df1=pd.DataFrame({ 'start' : [a[1]],                \n",
    "                           'end' : [a[2]],                     \n",
    "                           'category' :  [a[0]],               \n",
    "                           'count' : [count.text],             \n",
    "                           'title': [title.text],              \n",
    "                           'content': [content.text.strip()[0:13000]]                              \n",
    "                         })\n",
    "\n",
    "        result=pd.concat([result, df1])                        \n",
    "        result.index = np.arange(len(result))             \n",
    "\n",
    "    if i % 60 == 0:                                        \n",
    "        print(\"Sleep 90seconds. Count:\" + str(i)           \n",
    "              +\",  Local Time:\"+ time.strftime('%Y-%m-%d', time.localtime(time.time()))\n",
    "              +\" \"+ time.strftime('%X', time.localtime(time.time()))\n",
    "              +\",  Data Length:\"+ str(len(result)))      "
   ]
  },
  {
   "cell_type": "code",
   "execution_count": 5,
   "metadata": {},
   "outputs": [
    {
     "name": "stdout",
     "output_type": "stream",
     "text": [
      "(118, 6)\n"
     ]
    },
    {
     "data": {
      "text/html": [
       "<div>\n",
       "<style scoped>\n",
       "    .dataframe tbody tr th:only-of-type {\n",
       "        vertical-align: middle;\n",
       "    }\n",
       "\n",
       "    .dataframe tbody tr th {\n",
       "        vertical-align: top;\n",
       "    }\n",
       "\n",
       "    .dataframe thead th {\n",
       "        text-align: right;\n",
       "    }\n",
       "</style>\n",
       "<table border=\"1\" class=\"dataframe\">\n",
       "  <thead>\n",
       "    <tr style=\"text-align: right;\">\n",
       "      <th></th>\n",
       "      <th>start</th>\n",
       "      <th>end</th>\n",
       "      <th>category</th>\n",
       "      <th>count</th>\n",
       "      <th>title</th>\n",
       "      <th>content</th>\n",
       "    </tr>\n",
       "  </thead>\n",
       "  <tbody>\n",
       "    <tr>\n",
       "      <th>0</th>\n",
       "      <td>2020-01-02</td>\n",
       "      <td>2020-02-01</td>\n",
       "      <td>인권/성평등</td>\n",
       "      <td>267</td>\n",
       "      <td>서울지방병무청 탈의실에 설치된 CCTV에 대한 진상규명을 요구한다. 또한 인권위의 ...</td>\n",
       "      <td>본인은 2019년 8월 경 서울지방병무청 제1검사장 탈의실에서 믿을 수 없는 것을 ...</td>\n",
       "    </tr>\n",
       "    <tr>\n",
       "      <th>1</th>\n",
       "      <td>2020-01-02</td>\n",
       "      <td>2020-02-01</td>\n",
       "      <td>경제민주화</td>\n",
       "      <td>271</td>\n",
       "      <td>주식시장 활성화 및 소액(개미)투자자 보호</td>\n",
       "      <td>우리 나라 코스피 시총이 미국 애플보다 작다는 설이 돌 정도로 한국의 주식시장은 저...</td>\n",
       "    </tr>\n",
       "    <tr>\n",
       "      <th>2</th>\n",
       "      <td>2020-01-02</td>\n",
       "      <td>2020-02-01</td>\n",
       "      <td>행정</td>\n",
       "      <td>198</td>\n",
       "      <td>교정기관의 민낮</td>\n",
       "      <td>억울한 일로 국민청원을 신청합니다.\\n\\r\\n 저는 **구치소 **교도관입니다.\\n...</td>\n",
       "    </tr>\n",
       "    <tr>\n",
       "      <th>3</th>\n",
       "      <td>2020-01-02</td>\n",
       "      <td>2020-02-01</td>\n",
       "      <td>안전/환경</td>\n",
       "      <td>170</td>\n",
       "      <td>미세먼지 저감 대책</td>\n",
       "      <td>미세먼지의 심각성은 이제 적극적인 대안을 요구 하고 있습니다.\\r\\n우리 일상에서 ...</td>\n",
       "    </tr>\n",
       "    <tr>\n",
       "      <th>4</th>\n",
       "      <td>2020-01-02</td>\n",
       "      <td>2020-02-01</td>\n",
       "      <td>교통/건축/국토</td>\n",
       "      <td>2,127</td>\n",
       "      <td>악질세입자 방지를 위한 세입자보호법을 재정해주세요.</td>\n",
       "      <td>저는 우선 아이셋의 부모입니다.\\r\\n식구가 많은편이고 아이들이 성장함에 따라 집이...</td>\n",
       "    </tr>\n",
       "  </tbody>\n",
       "</table>\n",
       "</div>"
      ],
      "text/plain": [
       "        start         end  category  count  \\\n",
       "0  2020-01-02  2020-02-01    인권/성평등    267   \n",
       "1  2020-01-02  2020-02-01     경제민주화    271   \n",
       "2  2020-01-02  2020-02-01        행정    198   \n",
       "3  2020-01-02  2020-02-01     안전/환경    170   \n",
       "4  2020-01-02  2020-02-01  교통/건축/국토  2,127   \n",
       "\n",
       "                                               title  \\\n",
       "0  서울지방병무청 탈의실에 설치된 CCTV에 대한 진상규명을 요구한다. 또한 인권위의 ...   \n",
       "1                            주식시장 활성화 및 소액(개미)투자자 보호   \n",
       "2                                           교정기관의 민낮   \n",
       "3                                         미세먼지 저감 대책   \n",
       "4                       악질세입자 방지를 위한 세입자보호법을 재정해주세요.   \n",
       "\n",
       "                                             content  \n",
       "0  본인은 2019년 8월 경 서울지방병무청 제1검사장 탈의실에서 믿을 수 없는 것을 ...  \n",
       "1  우리 나라 코스피 시총이 미국 애플보다 작다는 설이 돌 정도로 한국의 주식시장은 저...  \n",
       "2  억울한 일로 국민청원을 신청합니다.\\n\\r\\n 저는 **구치소 **교도관입니다.\\n...  \n",
       "3  미세먼지의 심각성은 이제 적극적인 대안을 요구 하고 있습니다.\\r\\n우리 일상에서 ...  \n",
       "4  저는 우선 아이셋의 부모입니다.\\r\\n식구가 많은편이고 아이들이 성장함에 따라 집이...  "
      ]
     },
     "execution_count": 5,
     "metadata": {},
     "output_type": "execute_result"
    }
   ],
   "source": [
    "print(result.shape)\n",
    "\n",
    "df = result\n",
    "df.head()"
   ]
  },
  {
   "cell_type": "code",
   "execution_count": 6,
   "metadata": {},
   "outputs": [
    {
     "data": {
      "text/plain": [
       "'우리 나라 코스피 시총이 미국 애플보다 작다는 설이 돌 정도로 한국의 주식시장은 저평가된 시장이라고 합니다. 하지만 투자매력이 없다고도 합니다.이렇게 말하는 이유가 어디 있습니까? 바로 투자를 해도 수익을 기대하기 어렵다는 인식이 이미 널리 퍼져 있다는 것입니다.\\n\\r\\n지금은 투자매력이 없어서 그렇지,..우리 나라 시중 부동 자금이 어마어마 한 것으로 알려진 것과, 외국 투자 자본 또한 실로 어마무지하게 많다는 것도 알고있습니다. 그러나 이 투자금이 주식시장으로 원활하게 순환이 안되고 있다는데 있습니다.\\n\\r\\n정부는 유휴자금이 주식 시장으로 들어오게 분위기를 띄어줘야 하는데,... 그렇지 못한 현실이 안타깝다고 생각합니다.\\r\\n국가가 지원해 돈 들이기가 어려우면,정부에서 정서적인 말이라도 활성화를 위한 관심표명과 정책적으로 지원만 해도 시장분위기는 많이 좋아질 것이라 확신합니다. \\n\\r\\n그래서 저는 정부에 다음과 같이 청원합니다.\\r\\n주식시장에 더 큰 충격 오기 전에 정부가 예방 조치를 할 수 있는데까지 노력해 주시기를 당부 드리면서,...\\n\\r\\n첫째,주식시장 활성화와 부양에 대한 정부의 의지를 표명해 주십시오 \\n\\r\\n둘째,  코스닥 종목은 공매도 제외시켜 주세요.\\n\\r\\n공매도 제도를 아예 없애버리면 좋겠지만 제도를 살린다면 적용 시장에서 코스닥 종목은 제외 해 주어야 체력이 약한 코스닥 시장을 안정시킬 수 있다고 봅니다 \\n\\r\\n셋째, 거래시장의 주식거래세를 더 낮춰 주세요 \\n\\r\\n특히 개미(소액)투자에 동일한 요율로 부과하는 것은 너무나 불공정 하다고 봅니다.\\n\\r\\n넷째, 중,장기 보유자에 대한 우대 차원에서 보유기간을 설정하여 주세요.\\n\\r\\n이는 장기 보유자에 대한 혜택을 주어 초단타매매 등 시장 질서를 교란하는 투자자와 분리하는 제도를 도입해 시장 안정화에 기여해 주시길 간곡히 부탁드리면서 청원합니다.'"
      ]
     },
     "execution_count": 6,
     "metadata": {},
     "output_type": "execute_result"
    }
   ],
   "source": [
    "df.loc[1]['content']"
   ]
  },
  {
   "cell_type": "code",
   "execution_count": 7,
   "metadata": {},
   "outputs": [],
   "source": [
    "import re\n",
    "\n",
    "def remove_white_space(text):\n",
    "    text = re.sub(r'[\\t\\r\\n\\f\\v]', ' ', str(text))\n",
    "    return text\n",
    "\n",
    "def remove_special_char(text):\n",
    "    text = re.sub('[^ ㄱ-ㅣ가-힣 0-9]+', ' ', str(text))\n",
    "    return text"
   ]
  },
  {
   "cell_type": "code",
   "execution_count": 8,
   "metadata": {},
   "outputs": [],
   "source": [
    "df.title = df.title.apply(remove_white_space)\n",
    "df.title = df.title.apply(remove_special_char)\n",
    "\n",
    "df.content = df.content.apply(remove_white_space)\n",
    "df.content = df.content.apply(remove_special_char)"
   ]
  },
  {
   "cell_type": "code",
   "execution_count": 9,
   "metadata": {},
   "outputs": [
    {
     "data": {
      "text/plain": [
       "'우리 나라 코스피 시총이 미국 애플보다 작다는 설이 돌 정도로 한국의 주식시장은 저평가된 시장이라고 합니다  하지만 투자매력이 없다고도 합니다 이렇게 말하는 이유가 어디 있습니까  바로 투자를 해도 수익을 기대하기 어렵다는 인식이 이미 널리 퍼져 있다는 것입니다    지금은 투자매력이 없어서 그렇지 우리 나라 시중 부동 자금이 어마어마 한 것으로 알려진 것과  외국 투자 자본 또한 실로 어마무지하게 많다는 것도 알고있습니다  그러나 이 투자금이 주식시장으로 원활하게 순환이 안되고 있다는데 있습니다    정부는 유휴자금이 주식 시장으로 들어오게 분위기를 띄어줘야 하는데  그렇지 못한 현실이 안타깝다고 생각합니다   국가가 지원해 돈 들이기가 어려우면 정부에서 정서적인 말이라도 활성화를 위한 관심표명과 정책적으로 지원만 해도 시장분위기는 많이 좋아질 것이라 확신합니다     그래서 저는 정부에 다음과 같이 청원합니다   주식시장에 더 큰 충격 오기 전에 정부가 예방 조치를 할 수 있는데까지 노력해 주시기를 당부 드리면서    첫째 주식시장 활성화와 부양에 대한 정부의 의지를 표명해 주십시오    둘째   코스닥 종목은 공매도 제외시켜 주세요    공매도 제도를 아예 없애버리면 좋겠지만 제도를 살린다면 적용 시장에서 코스닥 종목은 제외 해 주어야 체력이 약한 코스닥 시장을 안정시킬 수 있다고 봅니다    셋째  거래시장의 주식거래세를 더 낮춰 주세요    특히 개미 소액 투자에 동일한 요율로 부과하는 것은 너무나 불공정 하다고 봅니다    넷째  중 장기 보유자에 대한 우대 차원에서 보유기간을 설정하여 주세요    이는 장기 보유자에 대한 혜택을 주어 초단타매매 등 시장 질서를 교란하는 투자자와 분리하는 제도를 도입해 시장 안정화에 기여해 주시길 간곡히 부탁드리면서 청원합니다 '"
      ]
     },
     "execution_count": 9,
     "metadata": {},
     "output_type": "execute_result"
    }
   ],
   "source": [
    "df.loc[1]['content']"
   ]
  },
  {
   "cell_type": "code",
   "execution_count": 10,
   "metadata": {},
   "outputs": [],
   "source": [
    "from konlpy.tag import Okt\n",
    "\n",
    "okt = Okt()\n",
    "\n",
    "df['title_token'] = df.title.apply(okt.morphs)\n",
    "df['content_token'] = df.content.apply(okt.nouns)"
   ]
  },
  {
   "cell_type": "code",
   "execution_count": 11,
   "metadata": {},
   "outputs": [
    {
     "name": "stdout",
     "output_type": "stream",
     "text": [
      "start            object\n",
      "end              object\n",
      "category         object\n",
      "count             int64\n",
      "title            object\n",
      "content          object\n",
      "title_token      object\n",
      "content_token    object\n",
      "token_final      object\n",
      "dtype: object\n"
     ]
    }
   ],
   "source": [
    "df['token_final'] = df.title_token + df.content_token\n",
    "\n",
    "df['count'] = df['count'].replace({',' : ''}, regex = True).apply(lambda x : int(x))\n",
    "\n",
    "print(df.dtypes)\n",
    "\n",
    "df['label'] = df['count'].apply(lambda x: 'Yes' if x>=1000 else 'No')"
   ]
  },
  {
   "cell_type": "code",
   "execution_count": 12,
   "metadata": {},
   "outputs": [],
   "source": [
    "df_drop = df[['token_final', 'label']]"
   ]
  },
  {
   "cell_type": "code",
   "execution_count": 13,
   "metadata": {},
   "outputs": [
    {
     "data": {
      "text/html": [
       "<div>\n",
       "<style scoped>\n",
       "    .dataframe tbody tr th:only-of-type {\n",
       "        vertical-align: middle;\n",
       "    }\n",
       "\n",
       "    .dataframe tbody tr th {\n",
       "        vertical-align: top;\n",
       "    }\n",
       "\n",
       "    .dataframe thead th {\n",
       "        text-align: right;\n",
       "    }\n",
       "</style>\n",
       "<table border=\"1\" class=\"dataframe\">\n",
       "  <thead>\n",
       "    <tr style=\"text-align: right;\">\n",
       "      <th></th>\n",
       "      <th>token_final</th>\n",
       "      <th>label</th>\n",
       "    </tr>\n",
       "  </thead>\n",
       "  <tbody>\n",
       "    <tr>\n",
       "      <th>0</th>\n",
       "      <td>[서울, 지방, 병무청, 탈의실, 에, 설치, 된, 에, 대한, 진상, 규명, 을,...</td>\n",
       "      <td>No</td>\n",
       "    </tr>\n",
       "    <tr>\n",
       "      <th>1</th>\n",
       "      <td>[주식시장, 활성화, 및, 소액, 개미, 투자자, 보호, 우리, 나라, 코스피, 총...</td>\n",
       "      <td>No</td>\n",
       "    </tr>\n",
       "    <tr>\n",
       "      <th>2</th>\n",
       "      <td>[교정, 기관, 의, 민낮, 일로, 국민, 청원, 신청, 저, 구치소, 교도관, 이...</td>\n",
       "      <td>No</td>\n",
       "    </tr>\n",
       "    <tr>\n",
       "      <th>3</th>\n",
       "      <td>[미세먼지, 저, 감, 대책, 미세먼지, 심각, 성은, 이제, 적극, 대안, 요구,...</td>\n",
       "      <td>No</td>\n",
       "    </tr>\n",
       "    <tr>\n",
       "      <th>4</th>\n",
       "      <td>[악질, 세, 입자, 방지, 를, 위, 한, 세, 입자, 보호, 법, 을, 재정, ...</td>\n",
       "      <td>Yes</td>\n",
       "    </tr>\n",
       "  </tbody>\n",
       "</table>\n",
       "</div>"
      ],
      "text/plain": [
       "                                         token_final label\n",
       "0  [서울, 지방, 병무청, 탈의실, 에, 설치, 된, 에, 대한, 진상, 규명, 을,...    No\n",
       "1  [주식시장, 활성화, 및, 소액, 개미, 투자자, 보호, 우리, 나라, 코스피, 총...    No\n",
       "2  [교정, 기관, 의, 민낮, 일로, 국민, 청원, 신청, 저, 구치소, 교도관, 이...    No\n",
       "3  [미세먼지, 저, 감, 대책, 미세먼지, 심각, 성은, 이제, 적극, 대안, 요구,...    No\n",
       "4  [악질, 세, 입자, 방지, 를, 위, 한, 세, 입자, 보호, 법, 을, 재정, ...   Yes"
      ]
     },
     "execution_count": 13,
     "metadata": {},
     "output_type": "execute_result"
    }
   ],
   "source": [
    "df_drop.head()"
   ]
  },
  {
   "cell_type": "code",
   "execution_count": 15,
   "metadata": {},
   "outputs": [],
   "source": [
    "df_drop.to_csv('data/df_drop.csv', index = False, encoding = 'utf-8-sig')"
   ]
  },
  {
   "cell_type": "code",
   "execution_count": 24,
   "metadata": {},
   "outputs": [
    {
     "name": "stdout",
     "output_type": "stream",
     "text": [
      "Word2Vec(vocab=6560, vector_size=100, alpha=0.025)\n"
     ]
    }
   ],
   "source": [
    "from gensim.models import Word2Vec\n",
    "\n",
    "embedding_model = Word2Vec(df_drop['token_final'], \n",
    "                           sg = 1, # skip-gram\n",
    "                           vector_size = 100, \n",
    "                           window = 2, \n",
    "                           min_count = 1, \n",
    "                           workers = 4\n",
    "                           )\n",
    "\n",
    "print(embedding_model)\n"
   ]
  },
  {
   "cell_type": "code",
   "execution_count": 25,
   "metadata": {},
   "outputs": [
    {
     "name": "stdout",
     "output_type": "stream",
     "text": [
      "[('사업자', 0.9745129346847534), ('주어', 0.9741756319999695), ('본사', 0.974071741104126), ('진술', 0.974032998085022), ('탈의실', 0.9739261269569397), ('뿐', 0.973892331123352), ('큰일', 0.9738672971725464), ('출산', 0.9737982153892517), ('상표', 0.973738431930542), ('순간', 0.9736711382865906)]\n"
     ]
    }
   ],
   "source": [
    "model_result = embedding_model.wv.most_similar(\"악질\")\n",
    "print(model_result)"
   ]
  },
  {
   "cell_type": "code",
   "execution_count": 33,
   "metadata": {},
   "outputs": [
    {
     "name": "stdout",
     "output_type": "stream",
     "text": [
      "[('사업자', 0.9745129346847534), ('주어', 0.9741756319999695), ('본사', 0.974071741104126), ('진술', 0.974032998085022), ('탈의실', 0.9739261269569397), ('뿐', 0.973892331123352), ('큰일', 0.9738672971725464), ('출산', 0.9737982153892517), ('상표', 0.973738431930542), ('순간', 0.9736711382865906)]\n"
     ]
    }
   ],
   "source": [
    "from gensim.models import KeyedVectors\n",
    "\n",
    "embedding_model.wv.save_word2vec_format('data/petitions_token_w2v')\n",
    "\n",
    "loaded_model = KeyedVectors.load_word2vec_format(\"data/petitions_token_w2v\")\n",
    "\n",
    "model_result = loaded_model.most_similar(\"악질\")\n",
    "print(model_result)"
   ]
  },
  {
   "cell_type": "code",
   "execution_count": null,
   "metadata": {},
   "outputs": [],
   "source": [
    "from numpy.random import RandomState\n",
    "\n",
    "rng = RandomState()"
   ]
  }
 ],
 "metadata": {
  "interpreter": {
   "hash": "bf5da0436772b2f95b407fce42fcb02a7331a0076415f7d100bea650edadea1b"
  },
  "kernelspec": {
   "display_name": "Python 3.8.12 ('ai')",
   "language": "python",
   "name": "python3"
  },
  "language_info": {
   "codemirror_mode": {
    "name": "ipython",
    "version": 3
   },
   "file_extension": ".py",
   "mimetype": "text/x-python",
   "name": "python",
   "nbconvert_exporter": "python",
   "pygments_lexer": "ipython3",
   "version": "3.8.5"
  },
  "orig_nbformat": 4
 },
 "nbformat": 4,
 "nbformat_minor": 2
}
